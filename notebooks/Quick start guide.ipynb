{
 "cells": [
  {
   "cell_type": "markdown",
   "metadata": {},
   "source": [
    "# Setup"
   ]
  },
  {
   "cell_type": "markdown",
   "metadata": {},
   "source": [
    "This notebook introduces the basic usage of the RigidBodySim package. Let's get started."
   ]
  },
  {
   "cell_type": "code",
   "execution_count": 1,
   "metadata": {},
   "outputs": [
    {
     "data": {
      "text/html": [
       "    <script class='js-collapse-script'>\n",
       "        var curMatch =\n",
       "            window.location.href\n",
       "            .match(/(.*?)\\/notebooks\\/.*\\.ipynb/);\n",
       "\n",
       "        curMatch = curMatch ||\n",
       "            window.location.href\n",
       "            .match(/(.*?)\\/apps\\/.*\\.ipynb/);\n",
       "\n",
       "        if ( curMatch ) {\n",
       "            $('head').append('<base href=\"' + curMatch[1] + '/\">');\n",
       "        }\n",
       "    </script>\n"
      ],
      "text/plain": [
       "HTML{String}(\"    <script class='js-collapse-script'>\\n        var curMatch =\\n            window.location.href\\n            .match(/(.*?)\\\\/notebooks\\\\/.*\\\\.ipynb/);\\n\\n        curMatch = curMatch ||\\n            window.location.href\\n            .match(/(.*?)\\\\/apps\\\\/.*\\\\.ipynb/);\\n\\n        if ( curMatch ) {\\n            \\$('head').append('<base href=\\\"' + curMatch[1] + '/\\\">');\\n        }\\n    </script>\\n\")"
      ]
     },
     "metadata": {},
     "output_type": "display_data"
    },
    {
     "data": {
      "text/html": [
       "<script class='js-collapse-script' src='/assetserver/9ed50fe60e4c3cfba5d8d51afc0a1ba695b21d72-assets/webio/dist/bundle.js'></script>"
      ],
      "text/plain": [
       "HTML{String}(\"<script class='js-collapse-script' src='/assetserver/9ed50fe60e4c3cfba5d8d51afc0a1ba695b21d72-assets/webio/dist/bundle.js'></script>\")"
      ]
     },
     "metadata": {},
     "output_type": "display_data"
    },
    {
     "data": {
      "text/html": [
       "<script class='js-collapse-script' src='/assetserver/9ed50fe60e4c3cfba5d8d51afc0a1ba695b21d72-assets/providers/ijulia_setup.js'></script>"
      ],
      "text/plain": [
       "HTML{String}(\"<script class='js-collapse-script' src='/assetserver/9ed50fe60e4c3cfba5d8d51afc0a1ba695b21d72-assets/providers/ijulia_setup.js'></script>\")"
      ]
     },
     "metadata": {},
     "output_type": "display_data"
    },
    {
     "data": {
      "text/html": [
       "  <script class='js-collapse-script'>\n",
       "    $('.js-collapse-script').parent('.output_subarea').css('padding', '0');\n",
       "  </script>\n"
      ],
      "text/plain": [
       "HTML{String}(\"  <script class='js-collapse-script'>\\n    \\$('.js-collapse-script').parent('.output_subarea').css('padding', '0');\\n  </script>\\n\")"
      ]
     },
     "metadata": {},
     "output_type": "display_data"
    },
    {
     "name": "stderr",
     "output_type": "stream",
     "text": [
      "\u001b[1m\u001b[36mINFO: \u001b[39m\u001b[22m\u001b[36mLoading HttpServer methods...\n",
      "\u001b[39mWARNING: using Juno.input in module InteractBase conflicts with an existing identifier.\n"
     ]
    }
   ],
   "source": [
    "using RigidBodySim\n",
    "using RigidBodyDynamics"
   ]
  },
  {
   "cell_type": "markdown",
   "metadata": {},
   "source": [
    "RigidBodySim reexports select symbols from packages in the [DifferentialEquations](https://github.com/JuliaDiffEq/DifferentialEquations.jl) ecosystem. To access additional DifferentialEquations features, simply add one or more of the following:\n",
    "```julia\n",
    "using DiffEqBase # basics\n",
    "using OrdinaryDiffEq # more ODE-related functionality\n",
    "using DiffEqCallbacks # callback library\n",
    "```"
   ]
  },
  {
   "cell_type": "markdown",
   "metadata": {},
   "source": [
    "# Model definition"
   ]
  },
  {
   "cell_type": "markdown",
   "metadata": {},
   "source": [
    "We first need to create a `RigidBodyDynamics.Mechanism` instance, representing the rigid body system we want to simulate. One way of creating a `Mechanism` is by parsing a [URDF](http://wiki.ros.org/urdf) file:"
   ]
  },
  {
   "cell_type": "code",
   "execution_count": 2,
   "metadata": {},
   "outputs": [],
   "source": [
    "urdf = Pkg.dir(\"RigidBodySim\", \"test\", \"urdf\", \"Acrobot.urdf\")\n",
    "mechanism = parse_urdf(Float64, urdf)\n",
    "remove_fixed_tree_joints!(mechanism);"
   ]
  },
  {
   "cell_type": "markdown",
   "metadata": {},
   "source": [
    "Next, we'll create a `MechanismState` object, and set the initial joint positions and velocities:"
   ]
  },
  {
   "cell_type": "code",
   "execution_count": 3,
   "metadata": {},
   "outputs": [],
   "source": [
    "state = MechanismState(mechanism)\n",
    "shoulder, elbow = joints(mechanism)\n",
    "configuration(state, shoulder) .= 0.3\n",
    "configuration(state, elbow) .= 0.4\n",
    "velocity(state, shoulder) .= 1.\n",
    "velocity(state, elbow) .= 2.;"
   ]
  },
  {
   "cell_type": "markdown",
   "metadata": {},
   "source": [
    "# Creating an `ODEProblem`:"
   ]
  },
  {
   "cell_type": "markdown",
   "metadata": {},
   "source": [
    "RigidBodySim uses RigidBodyDynamics.jl to evaluate the equations of motion, and [OrdinaryDiffEq.jl](https://github.com/JuliaDiffEq/OrdinaryDiffEq.jl) for numerical integration (see [DifferentialEquations.jl](https://github.com/JuliaDiffEq/DifferentialEquations.jl) for documentation).\n",
    "\n",
    "RigidBodySim does not attempt to abstract away this dependence on the DifferentialEquations ecosystem, as doing so would necessarily expose only a subset of the functionality provided by DifferentialEquations, and require users familiar with the DifferentialEquations ecosystem to learn yet another API. Instead, RigidBodySim simply plugs into existing DifferentialEquations functionality, providing convenience methods and extensions.\n",
    "\n",
    "One example of this is the `Dynamics` object, which can represent the open-loop or closed-loop dynamics of a `Mechanism`:"
   ]
  },
  {
   "cell_type": "code",
   "execution_count": 4,
   "metadata": {},
   "outputs": [],
   "source": [
    "open_loop_dynamics = Dynamics(mechanism);"
   ]
  },
  {
   "cell_type": "markdown",
   "metadata": {},
   "source": [
    "The `Dynamics` object is callable, and satisfies the (in-place) [function signature that the OrdinaryDiffEq package expects](http://docs.juliadiffeq.org/stable/types/ode_types.html#Problem-Type-1), i.e. `f!(du, u, p, t)`. Furthermore the arguments with which the `Dynamics` object is called may have arbitrary element types.\n",
    "\n",
    "Using the `Dynamics` object we just created, we can now set up an `ODEProblem` as normal:"
   ]
  },
  {
   "cell_type": "code",
   "execution_count": 5,
   "metadata": {},
   "outputs": [
    {
     "data": {
      "text/plain": [
       "DiffEqBase.ODEProblem with uType Array{Float64,1} and tType Float64. In-place: true\n",
       "timespan: (0.0, 10000.0)\n",
       "u0: [0.3, 0.4, 1.0, 2.0]"
      ]
     },
     "execution_count": 5,
     "metadata": {},
     "output_type": "execute_result"
    }
   ],
   "source": [
    "final_time = 10000.\n",
    "problem = ODEProblem(open_loop_dynamics, state, (0., final_time))"
   ]
  },
  {
   "cell_type": "markdown",
   "metadata": {},
   "source": [
    "This sets up (but doesn't solve) the initial value problem to be solved through numerical integration of the equations of motion. Note that, as a convenience, RigidBodySim provides an `ODEProblem` constructor overload that (among other things) accepts a `MechanismState` object for the initial state (`u0`) argument."
   ]
  },
  {
   "cell_type": "markdown",
   "metadata": {},
   "source": [
    "# Visualization"
   ]
  },
  {
   "cell_type": "markdown",
   "metadata": {},
   "source": [
    "Next, let's set up a visualizer."
   ]
  },
  {
   "cell_type": "markdown",
   "metadata": {},
   "source": [
    "We'll first use `MechanismGeometries` to parse the link geometries for our `Mechanism`. The geometry data is parsed from the URDF file:"
   ]
  },
  {
   "cell_type": "code",
   "execution_count": 6,
   "metadata": {},
   "outputs": [],
   "source": [
    "using MechanismGeometries\n",
    "visuals = URDFVisuals(urdf);"
   ]
  },
  {
   "cell_type": "markdown",
   "metadata": {},
   "source": [
    "For visualization, RigidBodySim uses [MeshCat](https://github.com/rdeits/MeshCat.jl) (or more specifically, [MeshCatMechanisms](https://github.com/JuliaRobotics/MeshCatMechanisms.jl), built on top of MeshCat). A visualizer object can be created simply using"
   ]
  },
  {
   "cell_type": "code",
   "execution_count": 7,
   "metadata": {},
   "outputs": [],
   "source": [
    "using MeshCatMechanisms\n",
    "vis = MechanismVisualizer(mechanism, visuals);"
   ]
  },
  {
   "cell_type": "markdown",
   "metadata": {},
   "source": [
    "There are several ways of displaying the visualizer. We'll use Blink to display the visualizer in a standalone window:"
   ]
  },
  {
   "cell_type": "code",
   "execution_count": 8,
   "metadata": {},
   "outputs": [],
   "source": [
    "using Blink\n",
    "open(vis, Window());"
   ]
  },
  {
   "cell_type": "markdown",
   "metadata": {},
   "source": [
    "Alternatively, you could use `IJuliaCell(vis)` to display the visualizer directly in an IJulia cell, or simply `open(vis)` to display the visualizer in a new browser tab."
   ]
  },
  {
   "cell_type": "markdown",
   "metadata": {},
   "source": [
    "We'll then visualize the mechanism at the chosen initial state and time:"
   ]
  },
  {
   "cell_type": "code",
   "execution_count": 9,
   "metadata": {},
   "outputs": [],
   "source": [
    "set_configuration!(vis, configuration(state));"
   ]
  },
  {
   "cell_type": "markdown",
   "metadata": {},
   "source": [
    "# Simulating while visualizing"
   ]
  },
  {
   "cell_type": "markdown",
   "metadata": {},
   "source": [
    "We don't just want to visualize the initial state; we want to visualize the mechanism during the simulation as well. In addition, we want to be able to interact with the simulation process (for example, by terminating it using the 'stop' button in the visualizer).\n",
    "\n",
    "This functionality is implemented using a set of DifferentialEquations integrator callbacks (i.e., a `DiffEqBase.CallbackSet`). RigidBodySim provides a convenience `CallbackSet` constructor for these visualizer hooks:"
   ]
  },
  {
   "cell_type": "code",
   "execution_count": 10,
   "metadata": {},
   "outputs": [],
   "source": [
    "vis_callbacks = CallbackSet(vis);"
   ]
  },
  {
   "cell_type": "markdown",
   "metadata": {},
   "source": [
    "We can now start simulating by simply calling the `DiffEqBase.solve` function, making sure to pass in our visualizer callback set as the `callback` keyword argument.\n",
    "\n",
    "**Note**: just in time compilation may make it seem like nothing is happening for a few seconds."
   ]
  },
  {
   "cell_type": "code",
   "execution_count": 11,
   "metadata": {},
   "outputs": [],
   "source": [
    "sol = solve(problem, Tsit5(), abs_tol = 1e-10, dt = 0.05, callback = vis_callbacks);"
   ]
  },
  {
   "cell_type": "markdown",
   "metadata": {},
   "source": [
    "**Note**: a headless simulation can of course be performed by simply omitting the `callback` keyword argument. This may be somewhat faster than visualizing while simulating."
   ]
  },
  {
   "cell_type": "markdown",
   "metadata": {},
   "source": [
    "By default, the simulation will be run as fast as possible. If this is not desired, a `RealtimeRateLimiter` callback can be used:"
   ]
  },
  {
   "cell_type": "code",
   "execution_count": 12,
   "metadata": {},
   "outputs": [],
   "source": [
    "problem = ODEProblem(open_loop_dynamics, state, (0., 5.))\n",
    "rate_limiter = RealtimeRateLimiter(max_rate = 1.)\n",
    "callbacks = CallbackSet(vis_callbacks, rate_limiter) # this is how you combine callbacks\n",
    "solve(problem, Tsit5(), abs_tol = 1e-10, dt = 0.05, callback = callbacks);"
   ]
  },
  {
   "cell_type": "markdown",
   "metadata": {},
   "source": [
    "RigidBodySim also provides a simple control GUI that allows you to pause or terminate the simulation:"
   ]
  },
  {
   "cell_type": "code",
   "execution_count": 13,
   "metadata": {},
   "outputs": [],
   "source": [
    "controls = SimulationControls()\n",
    "open(controls, Window());"
   ]
  },
  {
   "cell_type": "markdown",
   "metadata": {},
   "source": [
    "And we can then add the controls as another callback:"
   ]
  },
  {
   "cell_type": "code",
   "execution_count": 14,
   "metadata": {},
   "outputs": [],
   "source": [
    "sim_control_callback = CallbackSet(controls)\n",
    "callbacks = CallbackSet(vis_callbacks, rate_limiter, sim_control_callback)\n",
    "solve(problem, Tsit5(), abs_tol = 1e-10, dt = 0.05, callback = callbacks);"
   ]
  },
  {
   "cell_type": "markdown",
   "metadata": {},
   "source": [
    "# Visualization after the simulation"
   ]
  },
  {
   "cell_type": "markdown",
   "metadata": {},
   "source": [
    "We can also play back the simulation results after the simulation is completed. RigidBodySim provides an overload for `RigidBodyTreeInspector.animate` that takes a `DiffEqBase.ODESolution`, returned by the `solve` function. Note that this `animate` function can be used even if the original simulation was performed headless (without visualization).\n",
    "\n",
    "Here's an example 5-second headless simulation, followed by playback at half speed:"
   ]
  },
  {
   "cell_type": "code",
   "execution_count": 15,
   "metadata": {},
   "outputs": [],
   "source": [
    "problem = ODEProblem(open_loop_dynamics, state, (0., 5.))\n",
    "sol = solve(problem, Vern7(), abs_tol = 1e-10, dt = 0.05);\n",
    "setanimation!(vis, sol, realtime_rate=0.5);"
   ]
  },
  {
   "cell_type": "markdown",
   "metadata": {},
   "source": [
    "TODO: Like with simulation, the 'stop' button in the visualizer window can be used to terminate visualization early."
   ]
  },
  {
   "cell_type": "markdown",
   "metadata": {},
   "source": [
    "# Simulation with a controller in the loop"
   ]
  },
  {
   "cell_type": "markdown",
   "metadata": {},
   "source": [
    "So far, we've only simulated a passive mechanism. We can also simulate with a controller in the loop."
   ]
  },
  {
   "cell_type": "markdown",
   "metadata": {},
   "source": [
    "## Basics"
   ]
  },
  {
   "cell_type": "markdown",
   "metadata": {},
   "source": [
    "The basic approach to controller-in-the-loop simulation is to pass in an a function of the form\n",
    "```julia\n",
    "function (τ::AbstractVector, t, state::MechanismState)\n",
    "    # set τ based on t and state...\n",
    "end\n",
    "```\n",
    "as an extra argument to the `ODEProblem` constructor. For example:"
   ]
  },
  {
   "cell_type": "code",
   "execution_count": 16,
   "metadata": {},
   "outputs": [
    {
     "data": {
      "text/plain": [
       "control! (generic function with 1 method)"
      ]
     },
     "execution_count": 16,
     "metadata": {},
     "output_type": "execute_result"
    }
   ],
   "source": [
    "function control!(τ, t, state)\n",
    "    view(τ, velocity_range(state, shoulder))  .= 5 * sin(t)\n",
    "    view(τ, velocity_range(state, elbow)) .= -configuration(state, shoulder)\n",
    "end"
   ]
  },
  {
   "cell_type": "code",
   "execution_count": 17,
   "metadata": {},
   "outputs": [],
   "source": [
    "closed_loop_dynamics = Dynamics(mechanism, control!)\n",
    "zero!(state)\n",
    "controlproblem = ODEProblem(closed_loop_dynamics, state, (0., 5.))\n",
    "sol = solve(controlproblem, Vern7(), abs_tol = 1e-10, dt = 0.05)\n",
    "setanimation!(vis, sol);"
   ]
  },
  {
   "cell_type": "markdown",
   "metadata": {},
   "source": [
    "## Simulating a digital controller"
   ]
  },
  {
   "cell_type": "markdown",
   "metadata": {},
   "source": [
    "In the previous example, the function `control!` is called whenever the integrator queries the dynamics. There are cases where this is not desired. For example, a digital controller typically runs at some fixed frequency, independent of the integrator time step. For such cases, `RigidBodySim` provides the `PeriodicController` type:"
   ]
  },
  {
   "cell_type": "code",
   "execution_count": 18,
   "metadata": {},
   "outputs": [],
   "source": [
    "τ = similar(velocity(state))\n",
    "Δt = 1e-3 # time between calls to the `control!` function\n",
    "controller = PeriodicController(τ, Δt, control!);"
   ]
  },
  {
   "cell_type": "markdown",
   "metadata": {},
   "source": [
    "which can be passed into the `ODEProblem` constructor in similar fashion:"
   ]
  },
  {
   "cell_type": "code",
   "execution_count": 19,
   "metadata": {},
   "outputs": [
    {
     "data": {
      "text/plain": [
       "DiffEqBase.ODEProblem with uType Array{Float64,1} and tType Float64. In-place: true\n",
       "timespan: (0.0, 5.0)\n",
       "u0: [0.0, 0.0, 0.0, 0.0]"
      ]
     },
     "execution_count": 19,
     "metadata": {},
     "output_type": "execute_result"
    }
   ],
   "source": [
    "zero!(state)\n",
    "periodic_control_problem = ODEProblem(Dynamics(mechanism, controller), state, (0., 5.))"
   ]
  },
  {
   "cell_type": "markdown",
   "metadata": {},
   "source": [
    "Under the hood, this creates an `ODEProblem` that contains a [`DiffEqCallbacks.PeriodicCallback`](http://docs.juliadiffeq.org/stable/features/callback_library.html#PeriodicCallback-1), which ensures that the `control!` function is called at the desired rate."
   ]
  },
  {
   "cell_type": "code",
   "execution_count": 20,
   "metadata": {},
   "outputs": [],
   "source": [
    "sol = solve(periodic_control_problem, Tsit5(), abs_tol = 1e-10, dt = 0.05, callback = vis_callbacks);"
   ]
  },
  {
   "cell_type": "markdown",
   "metadata": {},
   "source": [
    "and animate the results:"
   ]
  },
  {
   "cell_type": "code",
   "execution_count": 21,
   "metadata": {},
   "outputs": [],
   "source": [
    "setanimation!(vis, sol);"
   ]
  },
  {
   "cell_type": "code",
   "execution_count": null,
   "metadata": {},
   "outputs": [],
   "source": []
  }
 ],
 "metadata": {
  "kernelspec": {
   "display_name": "Julia 0.6.4",
   "language": "julia",
   "name": "julia-0.6"
  },
  "language_info": {
   "file_extension": ".jl",
   "mimetype": "application/julia",
   "name": "julia",
   "version": "0.6.4"
  }
 },
 "nbformat": 4,
 "nbformat_minor": 2
}
